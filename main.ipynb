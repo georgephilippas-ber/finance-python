{
 "cells": [
  {
   "cell_type": "code",
   "execution_count": 1,
   "id": "1ea407fa",
   "metadata": {
    "slideshow": {
     "slide_type": "skip"
    }
   },
   "outputs": [],
   "source": [
    "from finance import Portfolio\n",
    "\n",
    "from securities import SECURITIES\n",
    "\n",
    "\n",
    "portfolio = Portfolio.from_object(SECURITIES, years=5)"
   ]
  },
  {
   "cell_type": "code",
   "execution_count": 7,
   "id": "f07d4df3",
   "metadata": {
    "slideshow": {
     "slide_type": "slide"
    }
   },
   "outputs": [
    {
     "data": {
      "text/plain": "                                                    security  Kapitalanlage  \\\nWKN/ISIN                                                                      \nDB9U8X/0TZ3DV                2,00 % EUR Festzinsanleihe 2023         200000   \nDB9U8V/0TZ3DW          2,80 % EUR Grüne Festzinsanleihe 2025         200000   \nDB9U8W/0TZ3DX       Grüne Marktzinsanleihe 12 Monats-Euribor          90000   \nSH9ZX2/0TZ3DZ              Kapitalschutz-Zertifikat Plus DAX         120000   \nDB9U8Y/0TZ3E0     Kapitalschutz-Zertifikat Plus EuroStoxx 50              0   \nDB9U9A/0TZ3E2  Kapitalschutz-Zertifikat Plus MSCI World qEUR         100000   \n                                                       total         710000   \n\n                 2022     2023    2024    2025    2026    2027  \nWKN/ISIN                                                        \nDB9U8X/0TZ3DV  -500.0   3760.0     0.0     0.0     0.0     0.0  \nDB9U8V/0TZ3DW -1000.0   5360.0  5360.0  5360.0     0.0     0.0  \nDB9U8W/0TZ3DX  -900.0   2682.0  2682.0  2682.0  2682.0  2682.0  \nSH9ZX2/0TZ3DZ -1800.0   -144.0  -144.0  -144.0  -144.0  5856.0  \nDB9U8Y/0TZ3E0     0.0     -0.0    -0.0    -0.0     0.0     0.0  \nDB9U9A/0TZ3E2 -1500.0   -120.0  -120.0  -120.0  3880.0     0.0  \n              -5700.0  11538.0  7778.0  7778.0  6418.0  8538.0  ",
      "text/html": "<div>\n<style scoped>\n    .dataframe tbody tr th:only-of-type {\n        vertical-align: middle;\n    }\n\n    .dataframe tbody tr th {\n        vertical-align: top;\n    }\n\n    .dataframe thead th {\n        text-align: right;\n    }\n</style>\n<table border=\"1\" class=\"dataframe\">\n  <thead>\n    <tr style=\"text-align: right;\">\n      <th></th>\n      <th>security</th>\n      <th>Kapitalanlage</th>\n      <th>2022</th>\n      <th>2023</th>\n      <th>2024</th>\n      <th>2025</th>\n      <th>2026</th>\n      <th>2027</th>\n    </tr>\n    <tr>\n      <th>WKN/ISIN</th>\n      <th></th>\n      <th></th>\n      <th></th>\n      <th></th>\n      <th></th>\n      <th></th>\n      <th></th>\n      <th></th>\n    </tr>\n  </thead>\n  <tbody>\n    <tr>\n      <th>DB9U8X/0TZ3DV</th>\n      <td>2,00 % EUR Festzinsanleihe 2023</td>\n      <td>200000</td>\n      <td>-500.0</td>\n      <td>3760.0</td>\n      <td>0.0</td>\n      <td>0.0</td>\n      <td>0.0</td>\n      <td>0.0</td>\n    </tr>\n    <tr>\n      <th>DB9U8V/0TZ3DW</th>\n      <td>2,80 % EUR Grüne Festzinsanleihe 2025</td>\n      <td>200000</td>\n      <td>-1000.0</td>\n      <td>5360.0</td>\n      <td>5360.0</td>\n      <td>5360.0</td>\n      <td>0.0</td>\n      <td>0.0</td>\n    </tr>\n    <tr>\n      <th>DB9U8W/0TZ3DX</th>\n      <td>Grüne Marktzinsanleihe 12 Monats-Euribor</td>\n      <td>90000</td>\n      <td>-900.0</td>\n      <td>2682.0</td>\n      <td>2682.0</td>\n      <td>2682.0</td>\n      <td>2682.0</td>\n      <td>2682.0</td>\n    </tr>\n    <tr>\n      <th>SH9ZX2/0TZ3DZ</th>\n      <td>Kapitalschutz-Zertifikat Plus DAX</td>\n      <td>120000</td>\n      <td>-1800.0</td>\n      <td>-144.0</td>\n      <td>-144.0</td>\n      <td>-144.0</td>\n      <td>-144.0</td>\n      <td>5856.0</td>\n    </tr>\n    <tr>\n      <th>DB9U8Y/0TZ3E0</th>\n      <td>Kapitalschutz-Zertifikat Plus EuroStoxx 50</td>\n      <td>0</td>\n      <td>0.0</td>\n      <td>-0.0</td>\n      <td>-0.0</td>\n      <td>-0.0</td>\n      <td>0.0</td>\n      <td>0.0</td>\n    </tr>\n    <tr>\n      <th>DB9U9A/0TZ3E2</th>\n      <td>Kapitalschutz-Zertifikat Plus MSCI World qEUR</td>\n      <td>100000</td>\n      <td>-1500.0</td>\n      <td>-120.0</td>\n      <td>-120.0</td>\n      <td>-120.0</td>\n      <td>3880.0</td>\n      <td>0.0</td>\n    </tr>\n    <tr>\n      <th></th>\n      <td>total</td>\n      <td>710000</td>\n      <td>-5700.0</td>\n      <td>11538.0</td>\n      <td>7778.0</td>\n      <td>7778.0</td>\n      <td>6418.0</td>\n      <td>8538.0</td>\n    </tr>\n  </tbody>\n</table>\n</div>"
     },
     "execution_count": 7,
     "metadata": {},
     "output_type": "execute_result"
    }
   ],
   "source": [
    "df_ = portfolio.to_df(); df_"
   ]
  },
  {
   "cell_type": "code",
   "execution_count": 8,
   "id": "458c04f1",
   "metadata": {},
   "outputs": [],
   "source": [
    "df_.to_html(\"portfolio_allocation.html\")"
   ]
  },
  {
   "cell_type": "code",
   "execution_count": 9,
   "outputs": [],
   "source": [
    "df_.to_csv(\"portfolio_allocation.csv\")"
   ],
   "metadata": {
    "collapsed": false
   }
  },
  {
   "cell_type": "code",
   "execution_count": null,
   "outputs": [],
   "source": [],
   "metadata": {
    "collapsed": false
   }
  }
 ],
 "metadata": {
  "kernelspec": {
   "display_name": "Python 3 (ipykernel)",
   "language": "python",
   "name": "python3"
  },
  "language_info": {
   "codemirror_mode": {
    "name": "ipython",
    "version": 3
   },
   "file_extension": ".py",
   "mimetype": "text/x-python",
   "name": "python",
   "nbconvert_exporter": "python",
   "pygments_lexer": "ipython3",
   "version": "3.9.13"
  }
 },
 "nbformat": 4,
 "nbformat_minor": 5
}
